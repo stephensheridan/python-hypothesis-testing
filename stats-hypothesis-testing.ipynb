{
 "cells": [
  {
   "cell_type": "markdown",
   "metadata": {},
   "source": [
    "# Short tutorial on descriptive statistics using Python and Pandas\n",
    "\n",
    "This tutorial uses the Wine data set that can be downloaded from Kaggle at the following URL:\n",
    "\n",
    "https://www.kaggle.com/zynicide/wine-reviews\n",
    "\n",
    "The tutorial covers the following topics\n",
    "- Measures of central tendancy (mean, median and mode)\n",
    "- Measures of spread (range, standard deviation and variance)\n",
    "- The conection between standard deviation and normal distributions\n",
    "- Uniform or random distributions\n",
    "- Outliers\n",
    "- Data visualisations (Histograms and Boxplots)"
   ]
  },
  {
   "cell_type": "code",
   "execution_count": 33,
   "metadata": {},
   "outputs": [],
   "source": [
    "# Author: Stephen Sheridan\n",
    "# Import the required libraries\n",
    "import pandas as pd\n",
    "import pylab\n",
    "import random\n",
    "import numpy as np\n",
    "import matplotlib.pyplot as plt\n",
    "import warnings\n",
    "from scipy import stats"
   ]
  },
  {
   "cell_type": "code",
   "execution_count": 34,
   "metadata": {},
   "outputs": [],
   "source": [
    "# Set default pylab stuff to show plots inline and set the default plot size\n",
    "%matplotlib inline\n",
    "pylab.rcParams['figure.figsize'] = (13.0, 5.0)\n",
    "warnings.filterwarnings('ignore')"
   ]
  },
  {
   "cell_type": "markdown",
   "metadata": {},
   "source": [
    "#### Load the data into a dataframe using the read_csv function and display the top rows using the head function."
   ]
  },
  {
   "cell_type": "code",
   "execution_count": 35,
   "metadata": {},
   "outputs": [
    {
     "data": {
      "text/html": [
       "<div>\n",
       "<style scoped>\n",
       "    .dataframe tbody tr th:only-of-type {\n",
       "        vertical-align: middle;\n",
       "    }\n",
       "\n",
       "    .dataframe tbody tr th {\n",
       "        vertical-align: top;\n",
       "    }\n",
       "\n",
       "    .dataframe thead th {\n",
       "        text-align: right;\n",
       "    }\n",
       "</style>\n",
       "<table border=\"1\" class=\"dataframe\">\n",
       "  <thead>\n",
       "    <tr style=\"text-align: right;\">\n",
       "      <th></th>\n",
       "      <th>country</th>\n",
       "      <th>designation</th>\n",
       "      <th>points</th>\n",
       "      <th>price</th>\n",
       "      <th>province</th>\n",
       "      <th>region_1</th>\n",
       "      <th>taster_name</th>\n",
       "      <th>title</th>\n",
       "      <th>variety</th>\n",
       "      <th>winery</th>\n",
       "    </tr>\n",
       "  </thead>\n",
       "  <tbody>\n",
       "    <tr>\n",
       "      <th>0</th>\n",
       "      <td>US</td>\n",
       "      <td>Reserve Late Harvest</td>\n",
       "      <td>87</td>\n",
       "      <td>13.0</td>\n",
       "      <td>Michigan</td>\n",
       "      <td>Lake Michigan Shore</td>\n",
       "      <td>Alexander Peartree</td>\n",
       "      <td>St. Julian 2013 Reserve Late Harvest Riesling ...</td>\n",
       "      <td>Riesling</td>\n",
       "      <td>St. Julian</td>\n",
       "    </tr>\n",
       "    <tr>\n",
       "      <th>1</th>\n",
       "      <td>US</td>\n",
       "      <td>Vintner's Reserve Wild Child Block</td>\n",
       "      <td>87</td>\n",
       "      <td>65.0</td>\n",
       "      <td>Oregon</td>\n",
       "      <td>Willamette Valley</td>\n",
       "      <td>Paul Gregutt</td>\n",
       "      <td>Sweet Cheeks 2012 Vintner's Reserve Wild Child...</td>\n",
       "      <td>Pinot Noir</td>\n",
       "      <td>Sweet Cheeks</td>\n",
       "    </tr>\n",
       "    <tr>\n",
       "      <th>2</th>\n",
       "      <td>Spain</td>\n",
       "      <td>Ars In Vitro</td>\n",
       "      <td>87</td>\n",
       "      <td>15.0</td>\n",
       "      <td>Northern Spain</td>\n",
       "      <td>Navarra</td>\n",
       "      <td>Michael Schachner</td>\n",
       "      <td>Tandem 2011 Ars In Vitro Tempranillo-Merlot (N...</td>\n",
       "      <td>Tempranillo-Merlot</td>\n",
       "      <td>Tandem</td>\n",
       "    </tr>\n",
       "    <tr>\n",
       "      <th>3</th>\n",
       "      <td>Italy</td>\n",
       "      <td>Belsito</td>\n",
       "      <td>87</td>\n",
       "      <td>16.0</td>\n",
       "      <td>Sicily &amp; Sardinia</td>\n",
       "      <td>Vittoria</td>\n",
       "      <td>Kerin O’Keefe</td>\n",
       "      <td>Terre di Giurfo 2013 Belsito Frappato (Vittoria)</td>\n",
       "      <td>Frappato</td>\n",
       "      <td>Terre di Giurfo</td>\n",
       "    </tr>\n",
       "    <tr>\n",
       "      <th>4</th>\n",
       "      <td>France</td>\n",
       "      <td>Les Natures</td>\n",
       "      <td>87</td>\n",
       "      <td>27.0</td>\n",
       "      <td>Alsace</td>\n",
       "      <td>Alsace</td>\n",
       "      <td>Roger Voss</td>\n",
       "      <td>Jean-Baptiste Adam 2012 Les Natures Pinot Gris...</td>\n",
       "      <td>Pinot Gris</td>\n",
       "      <td>Jean-Baptiste Adam</td>\n",
       "    </tr>\n",
       "  </tbody>\n",
       "</table>\n",
       "</div>"
      ],
      "text/plain": [
       "  country                         designation  points  price  \\\n",
       "0      US                Reserve Late Harvest      87   13.0   \n",
       "1      US  Vintner's Reserve Wild Child Block      87   65.0   \n",
       "2   Spain                        Ars In Vitro      87   15.0   \n",
       "3   Italy                             Belsito      87   16.0   \n",
       "4  France                         Les Natures      87   27.0   \n",
       "\n",
       "            province             region_1         taster_name  \\\n",
       "0           Michigan  Lake Michigan Shore  Alexander Peartree   \n",
       "1             Oregon    Willamette Valley        Paul Gregutt   \n",
       "2     Northern Spain              Navarra   Michael Schachner   \n",
       "3  Sicily & Sardinia             Vittoria       Kerin O’Keefe   \n",
       "4             Alsace               Alsace          Roger Voss   \n",
       "\n",
       "                                               title             variety  \\\n",
       "0  St. Julian 2013 Reserve Late Harvest Riesling ...            Riesling   \n",
       "1  Sweet Cheeks 2012 Vintner's Reserve Wild Child...          Pinot Noir   \n",
       "2  Tandem 2011 Ars In Vitro Tempranillo-Merlot (N...  Tempranillo-Merlot   \n",
       "3   Terre di Giurfo 2013 Belsito Frappato (Vittoria)            Frappato   \n",
       "4  Jean-Baptiste Adam 2012 Les Natures Pinot Gris...          Pinot Gris   \n",
       "\n",
       "               winery  \n",
       "0          St. Julian  \n",
       "1        Sweet Cheeks  \n",
       "2              Tandem  \n",
       "3     Terre di Giurfo  \n",
       "4  Jean-Baptiste Adam  "
      ]
     },
     "execution_count": 35,
     "metadata": {},
     "output_type": "execute_result"
    }
   ],
   "source": [
    "# Load the wine data from the csv file\n",
    "wine_df = pd.read_csv('data/winemag-data.csv')\n",
    "# The following line can be used to drop any rows that have missing values\n",
    "#wine_df.dropna(inplace=True)\n",
    "# Display the top 10 rows of the  wine dataframe\n",
    "wine_df.head()"
   ]
  },
  {
   "cell_type": "markdown",
   "metadata": {},
   "source": [
    "#### The describe function can tell you a lot about the numerical columns in your data set."
   ]
  },
  {
   "cell_type": "code",
   "execution_count": 36,
   "metadata": {},
   "outputs": [
    {
     "data": {
      "text/html": [
       "<div>\n",
       "<style scoped>\n",
       "    .dataframe tbody tr th:only-of-type {\n",
       "        vertical-align: middle;\n",
       "    }\n",
       "\n",
       "    .dataframe tbody tr th {\n",
       "        vertical-align: top;\n",
       "    }\n",
       "\n",
       "    .dataframe thead th {\n",
       "        text-align: right;\n",
       "    }\n",
       "</style>\n",
       "<table border=\"1\" class=\"dataframe\">\n",
       "  <thead>\n",
       "    <tr style=\"text-align: right;\">\n",
       "      <th></th>\n",
       "      <th>points</th>\n",
       "      <th>price</th>\n",
       "    </tr>\n",
       "  </thead>\n",
       "  <tbody>\n",
       "    <tr>\n",
       "      <th>count</th>\n",
       "      <td>54170.000000</td>\n",
       "      <td>54170.000000</td>\n",
       "    </tr>\n",
       "    <tr>\n",
       "      <th>mean</th>\n",
       "      <td>88.966550</td>\n",
       "      <td>39.209341</td>\n",
       "    </tr>\n",
       "    <tr>\n",
       "      <th>std</th>\n",
       "      <td>2.955188</td>\n",
       "      <td>36.154076</td>\n",
       "    </tr>\n",
       "    <tr>\n",
       "      <th>min</th>\n",
       "      <td>80.000000</td>\n",
       "      <td>4.000000</td>\n",
       "    </tr>\n",
       "    <tr>\n",
       "      <th>25%</th>\n",
       "      <td>87.000000</td>\n",
       "      <td>20.000000</td>\n",
       "    </tr>\n",
       "    <tr>\n",
       "      <th>50%</th>\n",
       "      <td>89.000000</td>\n",
       "      <td>30.000000</td>\n",
       "    </tr>\n",
       "    <tr>\n",
       "      <th>75%</th>\n",
       "      <td>91.000000</td>\n",
       "      <td>48.000000</td>\n",
       "    </tr>\n",
       "    <tr>\n",
       "      <th>max</th>\n",
       "      <td>100.000000</td>\n",
       "      <td>2013.000000</td>\n",
       "    </tr>\n",
       "  </tbody>\n",
       "</table>\n",
       "</div>"
      ],
      "text/plain": [
       "             points         price\n",
       "count  54170.000000  54170.000000\n",
       "mean      88.966550     39.209341\n",
       "std        2.955188     36.154076\n",
       "min       80.000000      4.000000\n",
       "25%       87.000000     20.000000\n",
       "50%       89.000000     30.000000\n",
       "75%       91.000000     48.000000\n",
       "max      100.000000   2013.000000"
      ]
     },
     "execution_count": 36,
     "metadata": {},
     "output_type": "execute_result"
    }
   ],
   "source": [
    "# Most of the descriptive stats discussed below can be calculated\n",
    "# using one handy function in Pandas\n",
    "wine_df.describe()"
   ]
  },
  {
   "cell_type": "markdown",
   "metadata": {},
   "source": [
    "# What does the distribution of random data look like?\n",
    "We can generate 10,000 random values between -100 and 100 and use a historgram to view the distribution of the data. As you can see, each number between -100 and 100 has approximately the same probability of occuring."
   ]
  },
  {
   "cell_type": "code",
   "execution_count": 37,
   "metadata": {},
   "outputs": [
    {
     "data": {
      "image/png": "[encoded data removed]",
      "text/plain": [
       "<Figure size 1300x500 with 1 Axes>"
      ]
     },
     "metadata": {},
     "output_type": "display_data"
    }
   ],
   "source": [
    "# Let's generate some random data and plot it using a Histogram BINS=50\n",
    "random_values = np.random.randint(-100, 100, size=(10000))\n",
    "# Create a Pandas dataframe from the random data\n",
    "random_df = pd.DataFrame(random_values, columns=['value'])\n",
    "# Plot the data using a histogram\n",
    "random_df['value'].plot(kind='hist', bins=50)\n",
    "plt.savefig(\"figs/random_hist.pdf\")"
   ]
  },
  {
   "cell_type": "markdown",
   "metadata": {},
   "source": [
    "# Sample of the means\n",
    "If we take 1000 samples, of size 30, from the wine data set and plot the mean price for each sample we see that we get something that approximates a normal distribution with most of the data centred around the mean wine price.\n",
    "\n",
    "This demonstrates that even when the underlying data is random, the distribution of sample means will approximate a normal distribution."
   ]
  },
  {
   "cell_type": "code",
   "execution_count": 38,
   "metadata": {},
   "outputs": [
    {
     "data": {
      "image/png": "[encoded data removed]",
      "text/plain": [
       "<Figure size 1300x500 with 1 Axes>"
      ]
     },
     "metadata": {},
     "output_type": "display_data"
    }
   ],
   "source": [
    "# Define a sample size\n",
    "sample_size = 30\n",
    "# Define the number of sample we require\n",
    "number_of_samples = 1000\n",
    "# Create an empty list for the sample means\n",
    "random_means = []\n",
    "# Loop around number_of_samples times\n",
    "for i in range(number_of_samples):\n",
    "    # Grab a random sample of size 30 from the random data\n",
    "    random_sample = random_df.sample(n=sample_size)\n",
    "    # Calculate the mean of the sample and add it to the list\n",
    "    random_means.append(random_sample['value'].mean())\n",
    "\n",
    "# Create a pandas dataframe from the sample means list\n",
    "random_means_df = pd.DataFrame(random_means, columns=['value'])\n",
    "# Plot the data using a histogram\n",
    "random_means_df['value'].plot(kind='hist', bins=20)\n",
    "plt.savefig(\"figs/sample_means_random_hist.pdf\")"
   ]
  },
  {
   "cell_type": "markdown",
   "metadata": {},
   "source": [
    "# Replicating this process for the wine data set\n",
    "When take a sample of data from the wine data set and plot the price column using a histogram we see that the distribution does not look like a normal distribution. Values like **price** are not normally distributed."
   ]
  },
  {
   "cell_type": "code",
   "execution_count": 39,
   "metadata": {
    "scrolled": false
   },
   "outputs": [
    {
     "data": {
      "image/png": "[encoded data removed]",
      "text/plain": [
       "<Figure size 1300x500 with 1 Axes>"
      ]
     },
     "metadata": {},
     "output_type": "display_data"
    }
   ],
   "source": [
    "# Define the sample size\n",
    "sample_size = 30\n",
    "# Grab the random sample for the dataframe\n",
    "wine_sample = wine_df.sample(n=sample_size)\n",
    "# Plot the price column data using a histogram\n",
    "ax = wine_sample['price'].plot(kind='hist', bins=20)\n",
    "ax.set_title(\"Distribution of \" + str(sample_size) + \" sample wine prices\")\n",
    "ax.set_ylabel('Price Density')\n",
    "ax.set_xlabel('Price')\n",
    "plt.savefig(\"figs/sample_wine_prices.pdf\")"
   ]
  },
  {
   "cell_type": "markdown",
   "metadata": {},
   "source": [
    "# Sample of the means for the wine data set (price)\n",
    "The sample of the mean prices for the wine data will approximate a normal distribution centered around the mean price of the population.\n"
   ]
  },
  {
   "cell_type": "code",
   "execution_count": 40,
   "metadata": {},
   "outputs": [
    {
     "data": {
      "image/png": "[encoded data removed]",
      "text/plain": [
       "<Figure size 1300x500 with 1 Axes>"
      ]
     },
     "metadata": {},
     "output_type": "display_data"
    }
   ],
   "source": [
    "# Define the sample size\n",
    "sample_size = 30\n",
    "# Define the required number of samples\n",
    "number_of_samples = 1000\n",
    "# Create an empty list for the sample means\n",
    "sample_means = []\n",
    "# Loop around number_of_samples times\n",
    "for i in range(number_of_samples):\n",
    "    # Grab a random sample of size 30 from the wine data set\n",
    "    wine_sample = wine_df.sample(n=sample_size)\n",
    "    # Calculate the mean price of the sample and add it to the list\n",
    "    sample_means.append(wine_sample['price'].mean())\n",
    "\n",
    "# Create a pandas dataframe from the sample means list\n",
    "sampled_prices = pd.DataFrame(sample_means, columns=['value'])\n",
    "# Plot the data using a histogram\n",
    "sampled_prices['value'].plot(kind='hist', bins=20)\n",
    "plt.savefig(\"figs/sample_means_price.pdf\")"
   ]
  },
  {
   "cell_type": "markdown",
   "metadata": {},
   "source": [
    "# One Sample t-test in Python\n",
    "A one sample t-test is used to test whether or not the mean of a population is equal to some value."
   ]
  },
  {
   "cell_type": "code",
   "execution_count": 41,
   "metadata": {},
   "outputs": [
    {
     "name": "stdout",
     "output_type": "stream",
     "text": [
      "p-value =  0.1389944275158753\n"
     ]
    }
   ],
   "source": [
    "#define data\n",
    "data = [300, 315, 320, 311, 314, 309, 300, 308, 305, 303, 305, 301, 303]\n",
    "\n",
    "#perform one sample t-test\n",
    "result = stats.ttest_1samp(a=data, popmean=310)\n",
    "print(\"p-value = \" ,result[1])"
   ]
  },
  {
   "cell_type": "markdown",
   "metadata": {},
   "source": [
    "The two hypotheses for this particular one sample t-test are as follows:\n",
    "\n",
    "* H0: µ = 310 (the mean weight for this sample is 310)\n",
    "* HA: µ ≠310 (the mean is not 310)\n",
    "\n",
    "Because the p-value of our test (0.1389) is greater than alpha = 0.05, we fail to reject the null hypothesis of the test.\n",
    "\n",
    "We do not have sufficient evidence to say that the mean is different from 310."
   ]
  },
  {
   "cell_type": "markdown",
   "metadata": {},
   "source": [
    "# Two Sample t-test in Python\n",
    "A two sample t-test is used to test whether or not the means of two populations are equal."
   ]
  },
  {
   "cell_type": "code",
   "execution_count": 42,
   "metadata": {},
   "outputs": [
    {
     "name": "stdout",
     "output_type": "stream",
     "text": [
      "p-value =  0.04633501389516516\n"
     ]
    }
   ],
   "source": [
    "#define data\n",
    "sample1 = [300, 315, 320, 311, 314, 309, 300, 308, 305, 303, 305, 301, 303]\n",
    "sample2 = [335, 329, 322, 321, 324, 319, 304, 308, 305, 311, 307, 300, 305]\n",
    "\n",
    "#perform two sample t-test\n",
    "result = stats.ttest_ind(a=sample1, b=sample2) \n",
    "print(\"p-value = \" ,result[1])"
   ]
  },
  {
   "cell_type": "markdown",
   "metadata": {},
   "source": [
    "The two hypotheses for this particular two sample t-test are as follows:\n",
    "\n",
    "* H0: µ1 = µ2 (the mean of the two samples is equal)\n",
    "* HA: µ1 ≠ µ2 (the mean of the two samples is not equal)\n",
    "\n",
    "Since the p-value of the test (0.0463) is less than .05, we reject the null hypothesis.\n",
    "\n",
    "This means we have sufficient evidence to say that the means of the two sampels are not equal.\n"
   ]
  },
  {
   "cell_type": "markdown",
   "metadata": {},
   "source": [
    "# Paired Samples t-test in Python\n",
    "A paired samples t-test is used to compare the means of two samples when each observation in one sample can be paired with an observation in the other sample.\n",
    "\n",
    "For example, suppose we want to know whether or not a certain training program is able to increase the max vertical jump (in inches) of basketball players.\n",
    "\n",
    "To test this, we may recruit a simple random sample of 12 basketball players and measure each of their max vertical jumps. Then, we may have each player use the training program for one month and then measure their max vertical jump again at the end of the month.\n",
    "\n",
    "The following data shows the max jump height (in inches) before and after using the training program for each player:\n",
    "\n",
    "Before: 22, 24, 20, 19, 19, 20, 22, 25, 24, 23, 22, 21\n",
    "\n",
    "After: 23, 25, 20, 24, 18, 22, 23, 28, 24, 25, 24, 20"
   ]
  },
  {
   "cell_type": "code",
   "execution_count": 43,
   "metadata": {},
   "outputs": [
    {
     "name": "stdout",
     "output_type": "stream",
     "text": [
      "p-value =  0.02802807458682508\n"
     ]
    }
   ],
   "source": [
    "#define before and after max jump heights\n",
    "before = [22, 24, 20, 19, 19, 20, 22, 25, 24, 23, 22, 21]\n",
    "after = [23, 25, 20, 24, 18, 22, 23, 28, 24, 25, 24, 20]\n",
    "\n",
    "#perform paired samples t-test\n",
    "result = stats.ttest_rel(a=before, b=after)\n",
    "print(\"p-value = \" ,result[1])"
   ]
  },
  {
   "cell_type": "markdown",
   "metadata": {},
   "source": [
    "The two hypotheses for this particular paired samples t-test are as follows:\n",
    "\n",
    "* H0: µ1 = µ2 (the mean jump height before and after using the program is equal)\n",
    "* HA: µ1 ≠ µ2 (the mean jump height before and after using the program is not equal)\n",
    "\n",
    "Since the p-value of the test (0.0280) is less than .05, we reject the null hypothesis.\n",
    "\n",
    "This means we have sufficient evidence to say that the mean jump height before and after using the training program is not equal."
   ]
  },
  {
   "cell_type": "markdown",
   "metadata": {},
   "source": [
    "# Apply some stats tests to the Wine data set\n",
    "\n",
    "First, let's check to see if the mean of some sample prices is in line with the population mean\n",
    "\n",
    "* H0: µ1 = µ2 (the mean of the sample is in line with the mean of the population)\n",
    "* HA: µ1 ≠ µ2 (the mean of the sample is NOT in line with the mean of the population)"
   ]
  },
  {
   "cell_type": "code",
   "execution_count": 44,
   "metadata": {},
   "outputs": [
    {
     "name": "stdout",
     "output_type": "stream",
     "text": [
      "Sample of 30 random points has mean in line with population mean\n",
      "Population mean points 88.96654975078457\n",
      "Sample mean points 88.96666666666667\n",
      "P-value = 0.999806\n",
      "Accept NULL hypothesis if p-value > Alpha of 0.5\n",
      "Otherwise reject the NULL hypothesis and accept the alternative\n"
     ]
    }
   ],
   "source": [
    "# Hypothesis\n",
    "print(\"Sample of 30 random points has mean in line with population mean\")\n",
    "# Population \n",
    "pop_mean =  wine_df['points'].mean()\n",
    "print(\"Population mean points \" + str(pop_mean))\n",
    "\n",
    "# Random sample of 30 wines\n",
    "sample_mean = wine_sample['points'].mean()\n",
    "print(\"Sample mean points \" + str(sample_mean))\n",
    "\n",
    "# Test to see if the mean of the sample is agree\n",
    "\n",
    "# Test against the population mean - one sample t-test\n",
    "results =  stats.ttest_1samp(wine_sample['points'], pop_mean)\n",
    "\n",
    "# Compare the two samples - two sample t-test\n",
    "#results =  stats.ttest_ind(wine_sample['points'], wine_df['points'])\n",
    "\n",
    "print(\"P-value = %.6f\" % results[1])\n",
    "print(\"Accept NULL hypothesis if p-value > Alpha of 0.5\")\n",
    "print(\"Otherwise reject the NULL hypothesis and accept the alternative\")"
   ]
  },
  {
   "cell_type": "markdown",
   "metadata": {},
   "source": [
    "# We can check to see if the mean of a sample is in line with some arbitrary mean value. Let's say 50.\n",
    "* H0: µ1 = µ2 (the mean of the sample is 50)\n",
    "* HA: µ1 ≠ µ2 (the mean of the sample is NOT 50)"
   ]
  },
  {
   "cell_type": "code",
   "execution_count": 45,
   "metadata": {},
   "outputs": [
    {
     "name": "stdout",
     "output_type": "stream",
     "text": [
      "Sample mean points 88.96666666666667\n",
      "P-value = 0.000000\n",
      "Accept NULL hypothesis if p-value > Alpha of 0.5\n",
      "Otherwise reject the NULL hypothesis and accept the alternative\n"
     ]
    }
   ],
   "source": [
    "# Hypothesis\n",
    "\n",
    "# Random sample of 30 wines\n",
    "sample_mean = wine_sample['points'].mean()\n",
    "print(\"Sample mean points \" + str(sample_mean))\n",
    "\n",
    "# Test to see if the mean of the sample is agree\n",
    "results =  stats.ttest_1samp(wine_sample['points'], 50)\n",
    "\n",
    "print(\"P-value = %.6f\" % results[1])\n",
    "print(\"Accept NULL hypothesis if p-value > Alpha of 0.5\")\n",
    "print(\"Otherwise reject the NULL hypothesis and accept the alternative\")"
   ]
  },
  {
   "cell_type": "code",
   "execution_count": null,
   "metadata": {},
   "outputs": [],
   "source": []
  }
 ],
 "metadata": {
  "kernelspec": {
   "display_name": "Python 3 (ipykernel)",
   "language": "python",
   "name": "python3"
  },
  "language_info": {
   "codemirror_mode": {
    "name": "ipython",
    "version": 3
   },
   "file_extension": ".py",
   "mimetype": "text/x-python",
   "name": "python",
   "nbconvert_exporter": "python",
   "pygments_lexer": "ipython3",
   "version": "3.8.3"
  }
 },
 "nbformat": 4,
 "nbformat_minor": 2
}
